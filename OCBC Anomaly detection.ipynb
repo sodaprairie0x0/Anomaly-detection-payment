{
 "cells": [
  {
   "cell_type": "markdown",
   "metadata": {},
   "source": [
    "## Problem statement\n",
    "In this dataset, each customer is classified as high or low credit risk according to the set of features and payment history. If label is 1, the customer is in high credit risk. Dataset imbalance ratio is 20%.\n",
    "\n",
    "**Data:**\n",
    "payment_data.csv: customer’s card payment history.\n",
    "- id: customer id\n",
    "- OVD_t1: number of times overdue type 1\n",
    "- OVD_t2: number of times overdue type 2\n",
    "- OVD_t3: number of times overdue type 3\n",
    "- OVD_sum: total overdue days\n",
    "- pay_normal: number of times normal payment\n",
    "- prod_code: credit product code\n",
    "- prod_limit: credit limit of product\n",
    "- update_date: account update date\n",
    "- new_balance: current balance of product\n",
    "- highest_balance: highest balance in history\n",
    "- report_date: date of recent payment\n",
    "- customer_data.csv: customer’s demographic data and category attributes which have been encoded. Category features are fea_1, fea_3, fea_5, fea_6, fea_7, fea_9.\n",
    "\n",
    "**Tasks:**\n",
    "- Explore data to give insights.\n",
    "-\tBuild features from existing payment data.\n",
    "-\tBuild model to predict high risk customer \n",
    "-\tModel explanation and evaluation\n",
    "\n",
    "**Solution**\n",
    "1. Data exploration, visualization with PCA\n",
    "2. Data preprocessing & feature engineering\n",
    "3. Build starter model, decide metric \n",
    "4. Finetune model, final test score with left aside data\n"
   ]
  },
  {
   "cell_type": "code",
   "execution_count": 2,
   "metadata": {},
   "outputs": [],
   "source": [
    "import pandas as pd\n",
    "import matplotlib.pyplot as plt\n",
    "\n",
    "%matplotlib inline"
   ]
  },
  {
   "cell_type": "markdown",
   "metadata": {},
   "source": []
  },
  {
   "cell_type": "code",
   "execution_count": null,
   "metadata": {},
   "outputs": [],
   "source": []
  }
 ],
 "metadata": {
  "kernelspec": {
   "display_name": "Python 3",
   "language": "python",
   "name": "python3"
  },
  "language_info": {
   "codemirror_mode": {
    "name": "ipython",
    "version": 3
   },
   "file_extension": ".py",
   "mimetype": "text/x-python",
   "name": "python",
   "nbconvert_exporter": "python",
   "pygments_lexer": "ipython3",
   "version": "3.7.4"
  }
 },
 "nbformat": 4,
 "nbformat_minor": 2
}
